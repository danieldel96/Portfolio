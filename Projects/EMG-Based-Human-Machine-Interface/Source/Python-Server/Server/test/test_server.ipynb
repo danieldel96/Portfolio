{
 "cells": [
  {
   "cell_type": "code",
   "execution_count": 1,
   "id": "14aeffb1",
   "metadata": {},
   "outputs": [
    {
     "name": "stdout",
     "output_type": "stream",
     "text": [
      "Socket successfully created\n"
     ]
    },
    {
     "ename": "OSError",
     "evalue": "[Errno 98] Address already in use",
     "output_type": "error",
     "traceback": [
      "\u001b[0;31m---------------------------------------------------------------------------\u001b[0m",
      "\u001b[0;31mOSError\u001b[0m                                   Traceback (most recent call last)",
      "\u001b[0;32m/tmp/ipykernel_151713/2887713928.py\u001b[0m in \u001b[0;36m<module>\u001b[0;34m\u001b[0m\n\u001b[1;32m     15\u001b[0m \u001b[0;31m# this makes the server listen to requests\u001b[0m\u001b[0;34m\u001b[0m\u001b[0;34m\u001b[0m\u001b[0;34m\u001b[0m\u001b[0m\n\u001b[1;32m     16\u001b[0m \u001b[0;31m# coming from other computers on the network\u001b[0m\u001b[0;34m\u001b[0m\u001b[0;34m\u001b[0m\u001b[0;34m\u001b[0m\u001b[0m\n\u001b[0;32m---> 17\u001b[0;31m \u001b[0ms\u001b[0m\u001b[0;34m.\u001b[0m\u001b[0mbind\u001b[0m\u001b[0;34m(\u001b[0m\u001b[0;34m(\u001b[0m\u001b[0;34m''\u001b[0m\u001b[0;34m,\u001b[0m \u001b[0mport\u001b[0m\u001b[0;34m)\u001b[0m\u001b[0;34m)\u001b[0m\u001b[0;34m\u001b[0m\u001b[0;34m\u001b[0m\u001b[0m\n\u001b[0m\u001b[1;32m     18\u001b[0m \u001b[0mprint\u001b[0m \u001b[0;34m(\u001b[0m\u001b[0;34m\"socket binded to %s\"\u001b[0m \u001b[0;34m%\u001b[0m\u001b[0;34m(\u001b[0m\u001b[0mport\u001b[0m\u001b[0;34m)\u001b[0m\u001b[0;34m)\u001b[0m\u001b[0;34m\u001b[0m\u001b[0;34m\u001b[0m\u001b[0m\n\u001b[1;32m     19\u001b[0m \u001b[0;34m\u001b[0m\u001b[0m\n",
      "\u001b[0;31mOSError\u001b[0m: [Errno 98] Address already in use"
     ]
    }
   ],
   "source": [
    "\n",
    "# first of all import the socket library\n",
    "import socket            \n",
    " \n",
    "# next create a socket object\n",
    "s = socket.socket()        \n",
    "print (\"Socket successfully created\")\n",
    " \n",
    "# reserve a port on your computer in our\n",
    "# case it is 12345 but it can be anything\n",
    "port = 8080            \n",
    " \n",
    "# Next bind to the port\n",
    "# we have not typed any ip in the ip field\n",
    "# instead we have inputted an empty string\n",
    "# this makes the server listen to requests\n",
    "# coming from other computers on the network\n",
    "s.bind(('', port))        \n",
    "print (\"socket binded to %s\" %(port))\n",
    " \n",
    "# put the socket into listening mode\n",
    "s.listen(5)    \n",
    "print (\"socket is listening\")           \n",
    " \n",
    "# a forever loop until we interrupt it or\n",
    "# an error occurs\n",
    "while True:\n",
    " \n",
    "# Establish connection with client.\n",
    "  c, addr = s.accept()    \n",
    "  print ('Got connection from', addr )\n",
    " \n",
    "  # send a thank you message to the client. encoding to send byte type.\n",
    "  c.send('Thank you for connecting'.encode())\n",
    " \n",
    "  # Close the connection with the client\n",
    "  c.close()\n",
    "   \n",
    "  # Breaking once connection closed\n",
    "  break"
   ]
  },
  {
   "cell_type": "code",
   "execution_count": null,
   "id": "bb7e1ebb",
   "metadata": {},
   "outputs": [],
   "source": []
  }
 ],
 "metadata": {
  "kernelspec": {
   "display_name": "Python 3 (ipykernel)",
   "language": "python",
   "name": "python3"
  },
  "language_info": {
   "codemirror_mode": {
    "name": "ipython",
    "version": 3
   },
   "file_extension": ".py",
   "mimetype": "text/x-python",
   "name": "python",
   "nbconvert_exporter": "python",
   "pygments_lexer": "ipython3",
   "version": "3.8.10"
  }
 },
 "nbformat": 4,
 "nbformat_minor": 5
}
