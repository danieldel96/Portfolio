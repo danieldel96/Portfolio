{
 "cells": [
  {
   "cell_type": "code",
   "execution_count": 35,
   "id": "4904c1b3",
   "metadata": {},
   "outputs": [],
   "source": [
    "#Convert folder of excel files to a mangable numpy file\n",
    "import glob\n",
    "import numpy as np\n",
    "import pandas as pd"
   ]
  },
  {
   "cell_type": "code",
   "execution_count": 36,
   "id": "c02a46d9",
   "metadata": {},
   "outputs": [],
   "source": [
    "classes = ['ope', 'clo', 'sup', 'pro']"
   ]
  },
  {
   "cell_type": "code",
   "execution_count": 37,
   "id": "4eb8a333",
   "metadata": {},
   "outputs": [],
   "source": [
    "def class_num(value):\n",
    "    class_num = -1\n",
    "    if(value == classes[0]):\n",
    "        class_num = 0\n",
    "    if(value == classes[1]):\n",
    "        class_num = 1\n",
    "    if(value == classes[2]):\n",
    "        class_num = 2\n",
    "    if(value == classes[3]):\n",
    "        class_num = 3\n",
    "    return class_num"
   ]
  },
  {
   "cell_type": "code",
   "execution_count": 38,
   "id": "a7512952",
   "metadata": {},
   "outputs": [],
   "source": [
    "def main():\n",
    "    dataset = []\n",
    "    dataset_class = []\n",
    "\n",
    "    emg_files = glob.glob(\"rtdata_EMG/data/**/*.xlsx\",recursive=True)\n",
    "    emg_array = np.array(emg_files)\n",
    "    print(emg_array.size)\n",
    "\n",
    "    for file_name in emg_array:\n",
    "        file_class = file_name[20:23].lower()\n",
    "\n",
    "        #assign class value\n",
    "        class_value = class_num(file_class)\n",
    "\n",
    "        #read in columns\n",
    "        df_1 = pd.read_excel(file_name,usecols=\"A\")\n",
    "        column_1 = df_1.values\n",
    "        col1_tmp = []\n",
    "        for i in range(len(column_1)):\n",
    "            col1_tmp.append(column_1[i][0])\n",
    "        column_1 = col1_tmp\n",
    "        #column_1 = np.array(col1_tmp) #use other format for now, since list can support different array sizes\n",
    "        del col1_tmp\n",
    "\n",
    "        df_2 = pd.read_excel(file_name,usecols=\"B\")\n",
    "        column_2 = df_2.values\n",
    "        col2_tmp = []\n",
    "        for i in range(len(column_2)):\n",
    "            col2_tmp.append(column_2[i][0])\n",
    "        column_2 = col2_tmp\n",
    "        del col2_tmp\n",
    "\n",
    "        df_3 = pd.read_excel(file_name,usecols=\"C\")\n",
    "        column_3 = df_3.values\n",
    "        col3_tmp = []\n",
    "        for i in range(len(column_3)):\n",
    "            col3_tmp.append(column_3[i][0])\n",
    "        column_3 = col3_tmp\n",
    "        del col3_tmp\n",
    "\n",
    "        df_4 = pd.read_excel(file_name,usecols=\"D\")\n",
    "        column_4 = df_4.values\n",
    "        col4_tmp = []\n",
    "        for i in range(len(column_4)):\n",
    "            col4_tmp.append(column_4[i][0])\n",
    "        column_4 = col4_tmp\n",
    "        del col4_tmp\n",
    "\n",
    "        columns = [column_1,column_2,column_3,column_4]\n",
    "        dataset.append(columns)\n",
    "        dataset_class.append(class_value)\n",
    "        #print(np.array(columns).shape)\n",
    "\n",
    "        #print(file_class)\n",
    "        #print(class_num)\n",
    "\n",
    "        #np.save('data.npy', dataset, dataset_class) # save\n",
    "        np.savez('raw_data.npz', dataset = dataset, dataset_class = dataset_class)\n",
    "        #new_num_arr = np.load('data.npy') # load"
   ]
  },
  {
   "cell_type": "code",
   "execution_count": 39,
   "id": "38935fff",
   "metadata": {},
   "outputs": [
    {
     "name": "stdout",
     "output_type": "stream",
     "text": [
      "318\n"
     ]
    }
   ],
   "source": [
    "if __name__ == \"__main__\":\n",
    "    main()"
   ]
  }
 ],
 "metadata": {
  "kernelspec": {
   "display_name": "Python 3 (ipykernel)",
   "language": "python",
   "name": "python3"
  },
  "language_info": {
   "codemirror_mode": {
    "name": "ipython",
    "version": 3
   },
   "file_extension": ".py",
   "mimetype": "text/x-python",
   "name": "python",
   "nbconvert_exporter": "python",
   "pygments_lexer": "ipython3",
   "version": "3.8.10"
  }
 },
 "nbformat": 4,
 "nbformat_minor": 5
}
