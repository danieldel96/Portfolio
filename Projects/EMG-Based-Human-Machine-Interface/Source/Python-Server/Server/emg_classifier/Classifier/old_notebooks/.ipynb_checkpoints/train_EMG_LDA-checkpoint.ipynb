{
 "cells": [
  {
   "cell_type": "code",
   "execution_count": 196,
   "id": "7e43df02",
   "metadata": {},
   "outputs": [],
   "source": [
    "import numpy as np\n",
    "from sklearn.discriminant_analysis import LinearDiscriminantAnalysis\n",
    "from sklearn.datasets import make_classification\n",
    "from sklearn.model_selection import RepeatedStratifiedKFold\n",
    "from sklearn.model_selection import cross_val_score\n",
    "from sklearn.model_selection import train_test_split\n",
    "from sklearn.metrics import confusion_matrix\n",
    "from numpy import mean\n",
    "from numpy import std\n",
    "import  pickle\n",
    "from joblib import dump, load"
   ]
  },
  {
   "cell_type": "code",
   "execution_count": 197,
   "id": "f479a35b",
   "metadata": {
    "scrolled": true
   },
   "outputs": [
    {
     "name": "stdout",
     "output_type": "stream",
     "text": [
      "(318, 16) (318,)\n",
      "(222, 16) (96, 16) (222,) (96,)\n"
     ]
    }
   ],
   "source": [
    "np_load = np.load('feat_data.npz',allow_pickle=True) # load\n",
    "#np_load = np.load('feat_data_no_zero_crossings.npz',allow_pickle=True)\n",
    "X = np_load['feature_array']\n",
    "y = np_load['dataset_class']\n",
    "print(X.shape, y.shape)\n",
    "X_train, X_test, y_train, y_test = train_test_split(X, y, test_size=0.3)\n",
    "print(X_train.shape,X_test.shape, y_train.shape, y_test.shape)"
   ]
  },
  {
   "cell_type": "code",
   "execution_count": 198,
   "id": "e2d21025",
   "metadata": {},
   "outputs": [
    {
     "data": {
      "text/plain": [
       "LinearDiscriminantAnalysis()"
      ]
     },
     "execution_count": 198,
     "metadata": {},
     "output_type": "execute_result"
    }
   ],
   "source": [
    "model = LinearDiscriminantAnalysis()\n",
    "model.fit(X_train,y_train)\n",
    "#model.fit(X,y)\n",
    "#model.predict()"
   ]
  },
  {
   "cell_type": "code",
   "execution_count": 199,
   "id": "15cd2a5c",
   "metadata": {},
   "outputs": [
    {
     "name": "stdout",
     "output_type": "stream",
     "text": [
      "Mean Accuracy: 0.765 (0.048)\n"
     ]
    }
   ],
   "source": [
    "cv = RepeatedStratifiedKFold(n_splits=5, n_repeats=3, random_state=32)\n",
    "scores = cross_val_score(model, X, y, scoring='accuracy', cv=cv, n_jobs=-1)\n",
    "print('Mean Accuracy: %.3f (%.3f)' % (mean(scores), std(scores)))"
   ]
  },
  {
   "cell_type": "code",
   "execution_count": 136,
   "id": "1ba50084",
   "metadata": {},
   "outputs": [
    {
     "name": "stdout",
     "output_type": "stream",
     "text": [
      "(40, 16)\n",
      "(40,)\n"
     ]
    }
   ],
   "source": [
    "#testing on only rishis data\n",
    "from extractTDFeats import extractTDFeats\n",
    "np_load = np.load('raw_data_rishi.npz',allow_pickle=True) # load\n",
    "feature_array = []\n",
    "dataset = np_load['dataset']\n",
    "dataset_class = np_load['dataset_class']\n",
    "for i in dataset:\n",
    "   # print(\" --- New Sample --- \")\n",
    "    feature_array.append(np.array(extractTDFeats(i)).flatten())\n",
    "#  print(feature_array)\n",
    "\n",
    "print(np.array(feature_array).shape)\n",
    "print(dataset_class.shape)\n",
    "np.savez('feat_data_rishi.npz', feature_array = feature_array, dataset_class = dataset_class)\n",
    "np_load = np.load('feat_data_rishi.npz',allow_pickle=True) # load\n",
    "#np_load = np.load('feat_data_no_zero_crossings.npz',allow_pickle=True)\n",
    "X_rishi = np_load['feature_array']\n",
    "y_rishi = np_load['dataset_class']\n",
    "print(X_rishi.shape, y_rishi.shape)\n",
    "\n",
    "y_true = y_rishi\n",
    "y_pred = model.predict(X_rishi)\n",
    "confusion_matrix(y_true, y_pred)\n"
   ]
  },
  {
   "cell_type": "markdown",
   "id": "a5ffa8aa",
   "metadata": {},
   "source": [
    "# With mav turns (zero turns)\n",
    "# print('Mean Accuracy: %.3f (%.3f)' % (mean(scores), std(scores)))\n",
    "# Mean Accuracy: 0.762 (0.046)"
   ]
  },
  {
   "cell_type": "code",
   "execution_count": 201,
   "id": "39fe9674",
   "metadata": {},
   "outputs": [
    {
     "data": {
      "text/plain": [
       "array([[66,  3, 13,  2],\n",
       "       [ 5, 67,  5,  2],\n",
       "       [ 6,  3, 64,  6],\n",
       "       [ 3,  2, 19, 52]])"
      ]
     },
     "execution_count": 201,
     "metadata": {},
     "output_type": "execute_result"
    }
   ],
   "source": [
    "#       :)\n",
    "s = pickle.dumps(model)\n",
    "clf2 = pickle.loads(s)\n",
    "y_true = y\n",
    "y_pred = clf2.predict(X)\n",
    "confusion_matrix(y_true, y_pred)"
   ]
  },
  {
   "cell_type": "code",
   "execution_count": null,
   "id": "d35d442d",
   "metadata": {},
   "outputs": [],
   "source": [
    "#dump(model, 'EMG_LDA.joblib')"
   ]
  },
  {
   "cell_type": "code",
   "execution_count": 202,
   "id": "46f05381",
   "metadata": {},
   "outputs": [
    {
     "data": {
      "text/plain": [
       "array([3, 0])"
      ]
     },
     "execution_count": 202,
     "metadata": {},
     "output_type": "execute_result"
    }
   ],
   "source": [
    "EMG_LDA = load('EMG_LDA.joblib')\n",
    "EMG_LDA.predict(X[39:41])"
   ]
  },
  {
   "cell_type": "code",
   "execution_count": null,
   "id": "8dffa990",
   "metadata": {},
   "outputs": [],
   "source": []
  }
 ],
 "metadata": {
  "kernelspec": {
   "display_name": "Python 3 (ipykernel)",
   "language": "python",
   "name": "python3"
  },
  "language_info": {
   "codemirror_mode": {
    "name": "ipython",
    "version": 3
   },
   "file_extension": ".py",
   "mimetype": "text/x-python",
   "name": "python",
   "nbconvert_exporter": "python",
   "pygments_lexer": "ipython3",
   "version": "3.8.10"
  }
 },
 "nbformat": 4,
 "nbformat_minor": 5
}
