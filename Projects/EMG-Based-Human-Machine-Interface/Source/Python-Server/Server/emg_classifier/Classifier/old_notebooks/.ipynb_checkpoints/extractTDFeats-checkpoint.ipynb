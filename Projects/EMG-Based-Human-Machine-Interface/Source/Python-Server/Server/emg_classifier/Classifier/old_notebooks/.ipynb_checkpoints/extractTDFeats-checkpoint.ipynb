{
 "cells": [
  {
   "cell_type": "code",
   "execution_count": 30,
   "id": "3b89e828",
   "metadata": {},
   "outputs": [],
   "source": [
    "import numpy as np\n",
    "import pandas as pd"
   ]
  },
  {
   "cell_type": "code",
   "execution_count": 31,
   "id": "ce13a7c6",
   "metadata": {},
   "outputs": [],
   "source": [
    "#Converted to python from extractTDFeats.m\n",
    "#4 signal input arrays\n",
    "#(4, SigLen)\n",
    "#assuming np.array input\n",
    "def extractTDFeats(sample):\n",
    "    DEADZONE = 0.04 #arbritrary threshold\n",
    "    feats = []\n",
    "    for sig in sample:\n",
    "        #print(\" ... New Signal ... \")\n",
    "        frame_len = len(sig)\n",
    "        mav = 0\n",
    "        length = 0\n",
    "        zero_count = 0\n",
    "        turns = 0\n",
    "        \n",
    "        mav = np.mean(sig)\n",
    "        #print(\"Mean Absolute Value: \", mav)   \n",
    "        \n",
    "        flag1 = 1\n",
    "        flag2 = 1\n",
    "        for i in range(1,frame_len-1):\n",
    "            idx = i\n",
    "            fst = sig[idx-1]\n",
    "            mid = sig[idx]\n",
    "            lst = sig[idx+1]\n",
    "            \n",
    "            #compute zero crossings\n",
    "            if((mid>=mav and fst>=mav) or (mid<=0 and fst<=0)):\n",
    "                flag1 = flag2\n",
    "            elif((mid<DEADZONE) and (mid>-1*DEADZONE) and (fst<DEADZONE) and (fst>-1*DEADZONE)):\n",
    "                flag1 = flag2\n",
    "            else:\n",
    "                flag1 = -1*flag2\n",
    "            if(flag1 != flag2):\n",
    "                zero_count = zero_count + 1\n",
    "                flag1 = flag2\n",
    "            \n",
    "            #compute turns (slope changes)\n",
    "            if((mid>fst and mid>lst) or (mid<fst and mid<lst)):\n",
    "                if( abs(mid-fst)>DEADZONE or abs(mid-lst)>DEADZONE ):\n",
    "                    turns = turns+1\n",
    "                    \n",
    "            #compute waveform length\n",
    "            length = length + abs(fst-mid)\n",
    "        if(pd.isna(mav)):\n",
    "            mav = 0\n",
    "        if(pd.isna(length)):\n",
    "            length = 0\n",
    "        #feats.append([mav, length, turns])\n",
    "        feats.append([mav, length, zero_count, turns])        \n",
    "    return feats"
   ]
  },
  {
   "cell_type": "code",
   "execution_count": 32,
   "id": "bdc0e521",
   "metadata": {},
   "outputs": [],
   "source": [
    "def main():   \n",
    "    np_load = np.load('raw_data.npz',allow_pickle=True) # load\n",
    "    feature_array = []\n",
    "    dataset = np_load['dataset']\n",
    "    dataset_class = np_load['dataset_class']\n",
    "    for i in dataset:\n",
    "       # print(\" --- New Sample --- \")\n",
    "        feature_array.append(np.array(extractTDFeats(i)).flatten())\n",
    "  #  print(feature_array)\n",
    "\n",
    "    print(np.array(feature_array).shape)\n",
    "    print(dataset_class.shape)\n",
    "    np.savez('feat_data.npz', feature_array = feature_array, dataset_class = dataset_class)\n"
   ]
  },
  {
   "cell_type": "code",
   "execution_count": 33,
   "id": "9e76fc3d",
   "metadata": {},
   "outputs": [
    {
     "name": "stdout",
     "output_type": "stream",
     "text": [
      "(318, 16)\n",
      "(318,)\n"
     ]
    }
   ],
   "source": [
    "if __name__ == \"__main__\":\n",
    "    main()"
   ]
  },
  {
   "cell_type": "code",
   "execution_count": null,
   "id": "2735edd7",
   "metadata": {},
   "outputs": [],
   "source": []
  }
 ],
 "metadata": {
  "kernelspec": {
   "display_name": "Python 3 (ipykernel)",
   "language": "python",
   "name": "python3"
  },
  "language_info": {
   "codemirror_mode": {
    "name": "ipython",
    "version": 3
   },
   "file_extension": ".py",
   "mimetype": "text/x-python",
   "name": "python",
   "nbconvert_exporter": "python",
   "pygments_lexer": "ipython3",
   "version": "3.8.10"
  }
 },
 "nbformat": 4,
 "nbformat_minor": 5
}
