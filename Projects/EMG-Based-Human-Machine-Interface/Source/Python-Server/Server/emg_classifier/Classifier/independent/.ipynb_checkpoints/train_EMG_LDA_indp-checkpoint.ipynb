{
 "cells": [
  {
   "cell_type": "code",
   "execution_count": 6,
   "id": "7e43df02",
   "metadata": {},
   "outputs": [],
   "source": [
    "import numpy as np\n",
    "from sklearn.discriminant_analysis import LinearDiscriminantAnalysis\n",
    "from sklearn.datasets import make_classification\n",
    "from sklearn.model_selection import RepeatedStratifiedKFold\n",
    "from sklearn.model_selection import cross_val_score\n",
    "from sklearn.model_selection import train_test_split\n",
    "from sklearn.metrics import confusion_matrix\n",
    "from numpy import mean\n",
    "from numpy import std\n",
    "import  pickle\n",
    "from joblib import dump, load"
   ]
  },
  {
   "cell_type": "code",
   "execution_count": 7,
   "id": "f479a35b",
   "metadata": {
    "scrolled": true
   },
   "outputs": [
    {
     "name": "stdout",
     "output_type": "stream",
     "text": [
      "(100, 16) (100,)\n",
      "(80, 16) (20, 16) (80,) (20,)\n"
     ]
    }
   ],
   "source": [
    "np_load = np.load('npz_files/feat_data_indp.npz',allow_pickle=True) # load\n",
    "#np_load = np.load('feat_data_no_zero_crossings.npz',allow_pickle=True)\n",
    "X = np_load['feature_array']\n",
    "y = np_load['dataset_class']\n",
    "print(X.shape, y.shape)\n",
    "X_train, X_test, y_train, y_test = train_test_split(X, y, test_size=0.2)\n",
    "print(X_train.shape,X_test.shape, y_train.shape, y_test.shape)"
   ]
  },
  {
   "cell_type": "code",
   "execution_count": 8,
   "id": "e2d21025",
   "metadata": {},
   "outputs": [
    {
     "name": "stdout",
     "output_type": "stream",
     "text": [
      "(50, 16) (50, 16) (50,) (50,)\n",
      "0.58\n",
      "(66, 16) (34, 16) (66,) (34,)\n",
      "0.6176470588235294\n",
      "(75, 16) (25, 16) (75,) (25,)\n",
      "0.68\n",
      "(80, 16) (20, 16) (80,) (20,)\n",
      "0.7\n",
      "(83, 16) (17, 16) (83,) (17,)\n",
      "0.6470588235294118\n",
      "(85, 16) (15, 16) (85,) (15,)\n",
      "0.5333333333333333\n",
      "(87, 16) (13, 16) (87,) (13,)\n",
      "0.6923076923076923\n",
      "(88, 16) (12, 16) (88,) (12,)\n",
      "0.6666666666666666\n",
      "(90, 16) (10, 16) (90,) (10,)\n",
      "0.6\n"
     ]
    }
   ],
   "source": [
    "for i in range(1,10):\n",
    "    i = i + 1\n",
    "    X_train, X_test, y_train, y_test = train_test_split(X, y, test_size=(1/i))\n",
    "    print(X_train.shape,X_test.shape, y_train.shape, y_test.shape)\n",
    "    model = LinearDiscriminantAnalysis()\n",
    "    model.fit(X_train,y_train)\n",
    "    print(model.score(X_test, y_test))\n",
    "    \n"
   ]
  },
  {
   "cell_type": "code",
   "execution_count": 9,
   "id": "49bae3ef",
   "metadata": {},
   "outputs": [
    {
     "name": "stdout",
     "output_type": "stream",
     "text": [
      "Mean Accuracy: 0.690 (0.097)\n"
     ]
    }
   ],
   "source": [
    "scores = cross_val_score(model, X, y, cv=5)\n",
    "print('Mean Accuracy: %.3f (%.3f)' % (mean(scores), std(scores)))"
   ]
  },
  {
   "cell_type": "code",
   "execution_count": 10,
   "id": "39fe9674",
   "metadata": {},
   "outputs": [
    {
     "data": {
      "text/plain": [
       "array([[17,  0,  1,  2,  0],\n",
       "       [ 1, 19,  0,  0,  0],\n",
       "       [ 1,  0, 18,  1,  0],\n",
       "       [ 0,  0, 11,  9,  0],\n",
       "       [ 0,  0,  0,  0, 20]])"
      ]
     },
     "execution_count": 10,
     "metadata": {},
     "output_type": "execute_result"
    }
   ],
   "source": [
    "#       :)\n",
    "s = pickle.dumps(model)\n",
    "clf2 = pickle.loads(s)\n",
    "y_true = y\n",
    "y_pred = clf2.predict(X)\n",
    "confusion_matrix(y_true, y_pred)"
   ]
  },
  {
   "cell_type": "code",
   "execution_count": null,
   "id": "d35d442d",
   "metadata": {},
   "outputs": [],
   "source": [
    "dump(model, 'models/EMG_LDA.joblib')"
   ]
  },
  {
   "cell_type": "code",
   "execution_count": 202,
   "id": "46f05381",
   "metadata": {},
   "outputs": [
    {
     "data": {
      "text/plain": [
       "array([3, 0])"
      ]
     },
     "execution_count": 202,
     "metadata": {},
     "output_type": "execute_result"
    }
   ],
   "source": [
    "EMG_LDA = load('models/EMG_LDA.joblib')\n",
    "EMG_LDA.predict(X[39:41])"
   ]
  }
 ],
 "metadata": {
  "kernelspec": {
   "display_name": "Python 3 (ipykernel)",
   "language": "python",
   "name": "python3"
  },
  "language_info": {
   "codemirror_mode": {
    "name": "ipython",
    "version": 3
   },
   "file_extension": ".py",
   "mimetype": "text/x-python",
   "name": "python",
   "nbconvert_exporter": "python",
   "pygments_lexer": "ipython3",
   "version": "3.8.10"
  }
 },
 "nbformat": 4,
 "nbformat_minor": 5
}
