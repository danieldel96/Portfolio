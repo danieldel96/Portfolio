{
 "cells": [
  {
   "cell_type": "code",
   "execution_count": 64,
   "id": "0954776d",
   "metadata": {},
   "outputs": [],
   "source": [
    "!git add ."
   ]
  },
  {
   "cell_type": "code",
   "execution_count": 65,
   "id": "76f62b2e",
   "metadata": {},
   "outputs": [
    {
     "name": "stdout",
     "output_type": "stream",
     "text": [
      "[main 071723f1] extractTDFeats\r\n",
      " Committer: Daniel Delgado <danieldel@ruizlab.org>\r\n",
      "Your name and email address were configured automatically based\r\n",
      "on your username and hostname. Please check that they are accurate.\r\n",
      "You can suppress this message by setting them explicitly:\r\n",
      "\r\n",
      "    git config --global user.name \"Your Name\"\r\n",
      "    git config --global user.email you@example.com\r\n",
      "\r\n",
      "After doing this, you may fix the identity used for this commit with:\r\n",
      "\r\n",
      "    git commit --amend --reset-author\r\n",
      "\r\n",
      " 6 files changed, 61 insertions(+), 60 deletions(-)\r\n",
      " rewrite Server/emg_classifier/Classifier/models/EMG_LDA.joblib (82%)\r\n",
      " rewrite Server/emg_classifier/Classifier/npz_files/feat_data.npz (95%)\r\n",
      " rewrite Server/emg_classifier/Classifier/npz_files/raw_data.npz (97%)\r\n"
     ]
    }
   ],
   "source": [
    "!git commit -m \"extractTDFeats\""
   ]
  },
  {
   "cell_type": "code",
   "execution_count": 66,
   "id": "d3fb8f41",
   "metadata": {},
   "outputs": [
    {
     "name": "stdout",
     "output_type": "stream",
     "text": [
      "Enumerating objects: 25, done.\n",
      "Counting objects: 100% (25/25), done.\n",
      "Delta compression using up to 32 threads\n",
      "Compressing objects: 100% (12/12), done.\n",
      "Writing objects: 100% (13/13), 57.50 KiB | 3.38 MiB/s, done.\n",
      "Total 13 (delta 7), reused 0 (delta 0)\n",
      "To gitlab.ruizlab.org:emg-hmi/emg-server-python.git\n",
      "   d842b588..071723f1  main -> main\n"
     ]
    }
   ],
   "source": [
    "!git push"
   ]
  },
  {
   "cell_type": "code",
   "execution_count": 67,
   "id": "3842a478",
   "metadata": {
    "scrolled": true
   },
   "outputs": [
    {
     "name": "stdout",
     "output_type": "stream",
     "text": [
      "remote: Enumerating objects: 24, done.\u001b[K\n",
      "remote: Counting objects: 100% (24/24), done.\u001b[K\n",
      "remote: Compressing objects: 100% (16/16), done.\u001b[K\n",
      "remote: Total 16 (delta 7), reused 0 (delta 0), pack-reused 0\u001b[K\n",
      "Unpacking objects: 100% (16/16), 82.07 KiB | 1.55 MiB/s, done.\n",
      "From gitlab.ruizlab.org:emg-hmi/emg-server-python\n",
      "   071723f1..08932af9  main       -> origin/main\n",
      "Updating 071723f1..08932af9\n",
      "Fast-forward\n",
      " .../Classifier/rtdata_EMG/data/d04/readme.md            |   4 \u001b[32m+++\u001b[m\u001b[31m-\u001b[m\n",
      " .../Classifier/rtdata_EMG/data/d05/close1.xlsx          | Bin \u001b[31m0\u001b[m -> \u001b[32m15904\u001b[m bytes\n",
      " .../Classifier/rtdata_EMG/data/d05/ina1.xlsx            | Bin \u001b[31m0\u001b[m -> \u001b[32m16709\u001b[m bytes\n",
      " .../Classifier/rtdata_EMG/data/d05/open1.xlsx           | Bin \u001b[31m0\u001b[m -> \u001b[32m16885\u001b[m bytes\n",
      " .../Classifier/rtdata_EMG/data/d05/pro1.xlsx            | Bin \u001b[31m0\u001b[m -> \u001b[32m17824\u001b[m bytes\n",
      " .../Classifier/rtdata_EMG/data/d05/readme.md            |   9 \u001b[32m+++++++++\u001b[m\n",
      " .../Classifier/rtdata_EMG/data/d05/sup1.xlsx            | Bin \u001b[31m0\u001b[m -> \u001b[32m17601\u001b[m bytes\n",
      " 7 files changed, 12 insertions(+), 1 deletion(-)\n",
      " create mode 100644 Server/emg_classifier/Classifier/rtdata_EMG/data/d05/close1.xlsx\n",
      " create mode 100644 Server/emg_classifier/Classifier/rtdata_EMG/data/d05/ina1.xlsx\n",
      " create mode 100644 Server/emg_classifier/Classifier/rtdata_EMG/data/d05/open1.xlsx\n",
      " create mode 100644 Server/emg_classifier/Classifier/rtdata_EMG/data/d05/pro1.xlsx\n",
      " create mode 100644 Server/emg_classifier/Classifier/rtdata_EMG/data/d05/readme.md\n",
      " create mode 100644 Server/emg_classifier/Classifier/rtdata_EMG/data/d05/sup1.xlsx\n"
     ]
    }
   ],
   "source": [
    "!git pull"
   ]
  },
  {
   "cell_type": "code",
   "execution_count": 68,
   "id": "5b958365",
   "metadata": {},
   "outputs": [
    {
     "name": "stdout",
     "output_type": "stream",
     "text": [
      "[ 0.45676456 -0.09483526  0.375       0.5625      0.16449301 -1.24978083\n",
      "  0.5625      0.5625      0.99297802  1.54553709  0.4375      0.5625\n",
      "  0.42885895 -0.20092101  0.5         0.5625    ] [ 0.33228604  1.19790741  0.375       0.625       0.33460984  0.57636053\n",
      "  0.375       0.375       0.1598263  -1.46107344  0.4375      0.5625\n",
      "  0.34679872 -0.3131945   0.3125      0.375     ]\n",
      "1 3\n"
     ]
    }
   ],
   "source": [
    "import numpy as np\n",
    "np_load = np.load('npz_files/feat_data_dep.npz',allow_pickle=True) # load\n",
    "#np_load = np.load('feat_data_no_zero_crossings.npz',allow_pickle=True)\n",
    "X = np_load['feature_array']\n",
    "print(X[100],X[3])\n",
    "\n",
    "y = np_load['dataset_class']\n",
    "print(y[100],y[3])"
   ]
  },
  {
   "cell_type": "code",
   "execution_count": null,
   "id": "90849bdd",
   "metadata": {},
   "outputs": [],
   "source": []
  }
 ],
 "metadata": {
  "kernelspec": {
   "display_name": "Python 3 (ipykernel)",
   "language": "python",
   "name": "python3"
  },
  "language_info": {
   "codemirror_mode": {
    "name": "ipython",
    "version": 3
   },
   "file_extension": ".py",
   "mimetype": "text/x-python",
   "name": "python",
   "nbconvert_exporter": "python",
   "pygments_lexer": "ipython3",
   "version": "3.8.10"
  }
 },
 "nbformat": 4,
 "nbformat_minor": 5
}
