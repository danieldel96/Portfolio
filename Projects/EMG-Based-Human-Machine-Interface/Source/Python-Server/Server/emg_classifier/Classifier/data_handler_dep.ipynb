{
 "cells": [
  {
   "cell_type": "code",
   "execution_count": 120,
   "id": "4904c1b3",
   "metadata": {},
   "outputs": [],
   "source": [
    "#Convert folder of excel files to a manageable numpy file\n",
    "import glob\n",
    "import numpy as np\n",
    "import pandas as pd"
   ]
  },
  {
   "cell_type": "code",
   "execution_count": 121,
   "id": "4024c696",
   "metadata": {},
   "outputs": [],
   "source": [
    "classes = ['ope', 'clo', 'sup', 'pro', 'ina']\n",
    "count = [0,0,0,0,0] #count number of samples per classification\n",
    "values_per_sample = 15"
   ]
  },
  {
   "cell_type": "code",
   "execution_count": 122,
   "id": "4eb8a333",
   "metadata": {},
   "outputs": [],
   "source": [
    "def class_num(value):\n",
    "    class_num = -1\n",
    "    if(value == classes[0]):\n",
    "        class_num = 0\n",
    "    if(value == classes[1]):\n",
    "        class_num = 1\n",
    "    if(value == classes[2]):\n",
    "        class_num = 2\n",
    "    if(value == classes[3]):\n",
    "        class_num = 3\n",
    "    if(value == classes[4]):\n",
    "        class_num = 4\n",
    "    count[class_num] = count[class_num]+1\n",
    "    return class_num"
   ]
  },
  {
   "cell_type": "code",
   "execution_count": 123,
   "id": "a7512952",
   "metadata": {},
   "outputs": [],
   "source": [
    "def main():\n",
    "    dataset = []\n",
    "    dataset_class = []\n",
    "    \n",
    "    #change this per participant\n",
    "    emg_files = glob.glob(\"rtdata_EMG/data/d05/*.xlsx\",recursive=True)\n",
    "    emg_array = np.array(emg_files)\n",
    "\n",
    "    for file_name in emg_array:\n",
    "        file_class = file_name[20:23].lower()\n",
    "        #print(file_name)\n",
    "\n",
    "        #assign class value\n",
    "        class_value = class_num(file_class)\n",
    "        \n",
    "        #read in columns\n",
    "        df_1 = pd.read_excel(file_name,usecols=\"A\")\n",
    "        df_2 = pd.read_excel(file_name,usecols=\"B\")\n",
    "        df_3 = pd.read_excel(file_name,usecols=\"C\")\n",
    "        df_4 = pd.read_excel(file_name,usecols=\"D\")\n",
    "        \n",
    "        column_1 = df_1.values\n",
    "        column_2 = df_2.values\n",
    "        column_3 = df_3.values\n",
    "        column_4 = df_4.values\n",
    "        \n",
    "        col1_tmp = []\n",
    "        col2_tmp = []\n",
    "        col3_tmp = []\n",
    "        col4_tmp = []\n",
    "        \n",
    "        length = len(column_1)\n",
    "        samples = length/values_per_sample\n",
    "        samples = int(samples)\n",
    "        #print(str(int(samples)))\n",
    "        \n",
    "        \n",
    "        for i in range(length):\n",
    "            if(len(col1_tmp) < values_per_sample):\n",
    "                #append emg values to column array\n",
    "                col1_tmp.append(column_1[i][0])\n",
    "                col2_tmp.append(column_2[i][0])\n",
    "                col3_tmp.append(column_3[i][0])\n",
    "                col4_tmp.append(column_4[i][0])\n",
    "            \n",
    "            if(len(col1_tmp) == values_per_sample):\n",
    "                columns = [col1_tmp, col2_tmp, col3_tmp, col4_tmp]\n",
    "                \n",
    "                dataset.append(columns)\n",
    "                dataset_class.append(class_value)\n",
    "\n",
    "                col1_tmp = []\n",
    "                col2_tmp = []\n",
    "                col3_tmp = []\n",
    "                col4_tmp = []\n",
    "\n",
    "    np.savez('npz_files/raw_data.npz', dataset = dataset, dataset_class = dataset_class)\n",
    "    print(len(dataset))\n"
   ]
  },
  {
   "cell_type": "code",
   "execution_count": 124,
   "id": "38935fff",
   "metadata": {},
   "outputs": [
    {
     "name": "stdout",
     "output_type": "stream",
     "text": [
      "86\n"
     ]
    }
   ],
   "source": [
    "if __name__ == \"__main__\":\n",
    "    main()"
   ]
  },
  {
   "cell_type": "code",
   "execution_count": null,
   "id": "2e737de7",
   "metadata": {},
   "outputs": [],
   "source": []
  }
 ],
 "metadata": {
  "kernelspec": {
   "display_name": "Python 3 (ipykernel)",
   "language": "python",
   "name": "python3"
  },
  "language_info": {
   "codemirror_mode": {
    "name": "ipython",
    "version": 3
   },
   "file_extension": ".py",
   "mimetype": "text/x-python",
   "name": "python",
   "nbconvert_exporter": "python",
   "pygments_lexer": "ipython3",
   "version": "3.8.10"
  }
 },
 "nbformat": 4,
 "nbformat_minor": 5
}
