{
 "cells": [
  {
   "cell_type": "code",
   "execution_count": 194,
   "id": "7e43df02",
   "metadata": {},
   "outputs": [],
   "source": [
    "import numpy as np\n",
    "from sklearn.discriminant_analysis import LinearDiscriminantAnalysis\n",
    "from sklearn.datasets import make_classification\n",
    "from sklearn.model_selection import RepeatedStratifiedKFold\n",
    "from sklearn.model_selection import cross_val_score\n",
    "from sklearn.model_selection import train_test_split\n",
    "from sklearn.metrics import confusion_matrix\n",
    "from numpy import mean\n",
    "from numpy import std\n",
    "import  pickle\n",
    "from joblib import dump, load"
   ]
  },
  {
   "cell_type": "code",
   "execution_count": 195,
   "id": "f479a35b",
   "metadata": {
    "scrolled": true
   },
   "outputs": [
    {
     "name": "stdout",
     "output_type": "stream",
     "text": [
      "(86, 16) (86,)\n",
      "(68, 16) (18, 16) (68,) (18,)\n"
     ]
    }
   ],
   "source": [
    "np_load = np.load('npz_files/feat_data.npz',allow_pickle=True) # load\n",
    "#np_load = np.load('feat_data_no_zero_crossings.npz',allow_pickle=True)\n",
    "X = np_load['feature_array']\n",
    "y = np_load['dataset_class']\n",
    "print(X.shape, y.shape)\n",
    "X_train, X_test, y_train, y_test = train_test_split(X, y, test_size=0.2)\n",
    "print(X_train.shape,X_test.shape, y_train.shape, y_test.shape)"
   ]
  },
  {
   "cell_type": "code",
   "execution_count": 196,
   "id": "e2d21025",
   "metadata": {},
   "outputs": [
    {
     "data": {
      "text/plain": [
       "LinearDiscriminantAnalysis()"
      ]
     },
     "execution_count": 196,
     "metadata": {},
     "output_type": "execute_result"
    }
   ],
   "source": [
    "model = LinearDiscriminantAnalysis()\n",
    "model.fit(X_train,y_train)"
   ]
  },
  {
   "cell_type": "code",
   "execution_count": 197,
   "id": "d519ab52",
   "metadata": {
    "scrolled": true
   },
   "outputs": [
    {
     "name": "stdout",
     "output_type": "stream",
     "text": [
      "[[9.99999394e-01 0.00000000e+00 6.05051094e-07 1.03714467e-09\n",
      "  2.13768668e-11]\n",
      " [2.84335610e-08 0.00000000e+00 4.57497585e-02 9.53364243e-01\n",
      "  8.85969925e-04]\n",
      " [6.90156456e-01 0.00000000e+00 2.75351101e-01 2.17359735e-02\n",
      "  1.27564695e-02]]\n",
      "[0 3 2]\n"
     ]
    }
   ],
   "source": [
    "print(model.predict_proba(X_test[10:13]))\n",
    "print(y_test[10:13])"
   ]
  },
  {
   "cell_type": "code",
   "execution_count": 153,
   "id": "49bae3ef",
   "metadata": {},
   "outputs": [
    {
     "name": "stdout",
     "output_type": "stream",
     "text": [
      "Mean Accuracy: 0.802 (0.094)\n"
     ]
    }
   ],
   "source": [
    "scores = cross_val_score(model, X, y, cv=6)\n",
    "print('Mean Accuracy: %.3f (%.3f)' % (mean(scores), std(scores)))"
   ]
  },
  {
   "cell_type": "code",
   "execution_count": 154,
   "id": "39fe9674",
   "metadata": {},
   "outputs": [
    {
     "data": {
      "text/plain": [
       "array([[5, 0, 0, 0, 0],\n",
       "       [0, 2, 0, 0, 0],\n",
       "       [0, 0, 2, 3, 0],\n",
       "       [0, 0, 0, 0, 1],\n",
       "       [0, 0, 0, 1, 4]])"
      ]
     },
     "execution_count": 154,
     "metadata": {},
     "output_type": "execute_result"
    }
   ],
   "source": [
    "#       :)\n",
    "s = pickle.dumps(model)\n",
    "clf2 = pickle.loads(s)\n",
    "y_true = y_test\n",
    "y_pred = clf2.predict(X_test)\n",
    "confusion_matrix(y_true, y_pred)"
   ]
  },
  {
   "cell_type": "code",
   "execution_count": 155,
   "id": "9ee5dd00",
   "metadata": {},
   "outputs": [
    {
     "data": {
      "text/plain": [
       "LinearDiscriminantAnalysis()"
      ]
     },
     "execution_count": 155,
     "metadata": {},
     "output_type": "execute_result"
    }
   ],
   "source": [
    "model.fit(X,y)"
   ]
  },
  {
   "cell_type": "code",
   "execution_count": 156,
   "id": "d35d442d",
   "metadata": {},
   "outputs": [
    {
     "data": {
      "text/plain": [
       "['models/EMG_LDA.joblib']"
      ]
     },
     "execution_count": 156,
     "metadata": {},
     "output_type": "execute_result"
    }
   ],
   "source": [
    "dump(model, 'models/EMG_LDA.joblib')"
   ]
  },
  {
   "cell_type": "code",
   "execution_count": 157,
   "id": "46f05381",
   "metadata": {
    "scrolled": true
   },
   "outputs": [
    {
     "name": "stdout",
     "output_type": "stream",
     "text": [
      "[0 0 0]\n",
      "[0 0 0]\n"
     ]
    }
   ],
   "source": [
    "EMG_LDA = load('models/EMG_LDA.joblib')\n",
    "print(EMG_LDA.predict(X[2:5]))\n",
    "print(y[2:5])"
   ]
  },
  {
   "cell_type": "code",
   "execution_count": null,
   "id": "98a1be89",
   "metadata": {},
   "outputs": [],
   "source": []
  }
 ],
 "metadata": {
  "kernelspec": {
   "display_name": "Python 3 (ipykernel)",
   "language": "python",
   "name": "python3"
  },
  "language_info": {
   "codemirror_mode": {
    "name": "ipython",
    "version": 3
   },
   "file_extension": ".py",
   "mimetype": "text/x-python",
   "name": "python",
   "nbconvert_exporter": "python",
   "pygments_lexer": "ipython3",
   "version": "3.8.10"
  }
 },
 "nbformat": 4,
 "nbformat_minor": 5
}
