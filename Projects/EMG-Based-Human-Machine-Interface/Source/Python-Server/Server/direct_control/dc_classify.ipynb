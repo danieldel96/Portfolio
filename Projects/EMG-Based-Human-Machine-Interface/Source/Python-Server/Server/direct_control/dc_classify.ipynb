{
 "cells": [
  {
   "cell_type": "code",
   "execution_count": 15,
   "id": "45e7a87f",
   "metadata": {},
   "outputs": [],
   "source": [
    "import numpy as np\n",
    "import threading"
   ]
  },
  {
   "cell_type": "code",
   "execution_count": 16,
   "id": "a54b3341",
   "metadata": {},
   "outputs": [],
   "source": [
    "class dc_extract():\n",
    "    \n",
    "    switchMode = 1 #1 blow threshhold, 2 above threshhold, 3 above threshold need to switch\n",
    "    wristMode = 1\n",
    "    graspMode = 0\n",
    "    \n",
    "    def __init__(self): \n",
    "        self.thresh_1 = 0.75 # grasp open lower threshhold\n",
    "        self.thresh_2 = 0.75 # grasp close\n",
    "        self.thresh_3 = 0.75 # wrist supination\n",
    "        self.thresh_4 = 0.75 # wrist pronation\n",
    "        \n",
    "    def set_thresh(self, sensor, value):\n",
    "        if( sensor == 1):\n",
    "            self.thresh_1 = value;\n",
    "        if( sensor == 2):\n",
    "            self.thresh_2 = value;\n",
    "        if( sensor == 3):\n",
    "            self.thresh_3 = value;\n",
    "        if( sensor == 4):\n",
    "            self.thresh_4 = value;\n",
    "        \n",
    "    def readin(self, sample):\n",
    "        for sig in sample:\n",
    "            mav = np.mean(np.absolute(sig))\n",
    "            print(mav)\n",
    "        "
   ]
  },
  {
   "cell_type": "code",
   "execution_count": 17,
   "id": "b84305b9",
   "metadata": {},
   "outputs": [],
   "source": [
    "def main():\n",
    "    dc = dc_extract()\n",
    "    dc.readin([[1,2,3,4],[1,2,3,4]])"
   ]
  },
  {
   "cell_type": "code",
   "execution_count": 14,
   "id": "07ce2b2f",
   "metadata": {},
   "outputs": [
    {
     "name": "stdout",
     "output_type": "stream",
     "text": [
      "2.5\n",
      "2.5\n"
     ]
    }
   ],
   "source": [
    "if __name__ == \"__main__\":\n",
    "    main()"
   ]
  },
  {
   "cell_type": "code",
   "execution_count": null,
   "id": "748efb72",
   "metadata": {},
   "outputs": [],
   "source": []
  }
 ],
 "metadata": {
  "kernelspec": {
   "display_name": "Python 3 (ipykernel)",
   "language": "python",
   "name": "python3"
  },
  "language_info": {
   "codemirror_mode": {
    "name": "ipython",
    "version": 3
   },
   "file_extension": ".py",
   "mimetype": "text/x-python",
   "name": "python",
   "nbconvert_exporter": "python",
   "pygments_lexer": "ipython3",
   "version": "3.8.10"
  }
 },
 "nbformat": 4,
 "nbformat_minor": 5
}
