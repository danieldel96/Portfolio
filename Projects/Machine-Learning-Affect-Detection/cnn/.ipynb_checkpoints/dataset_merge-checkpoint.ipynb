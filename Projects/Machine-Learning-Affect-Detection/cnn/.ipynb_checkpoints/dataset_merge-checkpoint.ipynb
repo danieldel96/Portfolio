{
 "cells": [
  {
   "cell_type": "code",
   "execution_count": 8,
   "id": "29d9e4f8",
   "metadata": {},
   "outputs": [
    {
     "name": "stdout",
     "output_type": "stream",
     "text": [
      "[227 115 128 128]\n",
      "[  227 84672]\n",
      "[227 115 128 128]\n",
      "[  227 84672]\n"
     ]
    }
   ],
   "source": [
    "#combines baum acted and spontaneous dataset\n",
    "import numpy as np\n",
    "\n",
    "load = np.load('data/BAUM_basic.npz',allow_pickle=True)\n",
    "spont_audio = load['audio']\n",
    "spont_video = load['video']\n",
    "spont_labels = load['labels']\n",
    "\n",
    "# for each i in labels:\n",
    "#      set to 1\n",
    "for i in range(spont_labels.shape[0]):\n",
    "    spont_labels[i] = 1\n",
    "\n",
    "n_splits = 6\n",
    "print(np.array(spont_video.shape))\n",
    "print(np.array(spont_audio.shape))\n",
    "\n",
    "load = np.load('data/BAUM_acted.npz',allow_pickle=True)\n",
    "act_audio = load['audio']\n",
    "act_video = load['video']\n",
    "act_labels = load['labels']\n",
    "\n",
    "for i in range(act_labels.shape[0]):\n",
    "    spont_labels[i] = 1\n",
    "\n",
    "\n",
    "# for each i in labels:\n",
    "#      set to 0\n",
    "n_splits = 6\n",
    "print(np.array(act_video.shape))\n",
    "print(np.array(act_audio.shape))"
   ]
  },
  {
   "cell_type": "code",
   "execution_count": null,
   "id": "fda605eb",
   "metadata": {},
   "outputs": [],
   "source": []
  }
 ],
 "metadata": {
  "kernelspec": {
   "display_name": "Python 3 (ipykernel)",
   "language": "python",
   "name": "python3"
  },
  "language_info": {
   "codemirror_mode": {
    "name": "ipython",
    "version": 3
   },
   "file_extension": ".py",
   "mimetype": "text/x-python",
   "name": "python",
   "nbconvert_exporter": "python",
   "pygments_lexer": "ipython3",
   "version": "3.8.10"
  }
 },
 "nbformat": 4,
 "nbformat_minor": 5
}
